{
 "cells": [
  {
   "cell_type": "markdown",
   "metadata": {},
   "source": [
    "# Neural Network Implementation in Python using SciKit Learn"
   ]
  },
  {
   "cell_type": "code",
   "execution_count": 20,
   "metadata": {},
   "outputs": [],
   "source": [
    "# load libaries\n",
    "from sklearn import preprocessing\n",
    "from sklearn.neural_network import MLPClassifier\n",
    "import numpy as np"
   ]
  },
  {
   "cell_type": "code",
   "execution_count": 21,
   "metadata": {},
   "outputs": [],
   "source": [
    "# load dataset\n",
    "# Sample Data - (Outlook,Temperature,Humidity,Windy,Play)\n",
    "dataset = np.array([\n",
    "\t\t ['Sunny','Hot','High','False','No'],\n",
    "\t\t ['Sunny','Hot','High','True','No'],\n",
    "\t\t ['Overcast','Hot','High','False','Yes'],\n",
    "\t\t ['Rainy','Mild','High','False','Yes'],\n",
    "\t\t ['Rainy','Cool','Normal','False','Yes'],\n",
    "\t\t ['Rainy','Cool','Normal','True','No'],\n",
    "\t\t ['Overcast','Cool','Normal','True','Yes'],\n",
    "\t\t ['Sunny','Mild','High','False','No'],\n",
    "\t\t ['Sunny','Cool','Normal','False','Yes'],\n",
    "\t\t ['Rainy','Mild','Normal','False','Yes'],\n",
    "\t\t ['Sunny','Mild','Normal','True','Yes'],\n",
    "\t\t ['Overcast','Mild','High','True','Yes'],\n",
    "\t\t ['Overcast','Hot','Normal','False','Yes'],\n",
    "\t\t ['Rainy','Mild','High','True','No']\n",
    "\t\t ])"
   ]
  },
  {
   "cell_type": "code",
   "execution_count": 22,
   "metadata": {},
   "outputs": [],
   "source": [
    "# We need to convert categorical data into numerical data for process.\n",
    "enc = preprocessing.OrdinalEncoder()\n",
    "enc.fit(dataset)\n",
    "data = enc.transform(dataset)\n"
   ]
  },
  {
   "cell_type": "code",
   "execution_count": 23,
   "metadata": {},
   "outputs": [
    {
     "name": "stdout",
     "output_type": "stream",
     "text": [
      "[[2. 1. 0. 0. 0.]\n",
      " [2. 1. 0. 1. 0.]\n",
      " [0. 1. 0. 0. 1.]\n",
      " [1. 2. 0. 0. 1.]\n",
      " [1. 0. 1. 0. 1.]\n",
      " [1. 0. 1. 1. 0.]\n",
      " [0. 0. 1. 1. 1.]\n",
      " [2. 2. 0. 0. 0.]\n",
      " [2. 0. 1. 0. 1.]\n",
      " [1. 2. 1. 0. 1.]\n",
      " [2. 2. 1. 1. 1.]\n",
      " [0. 2. 0. 1. 1.]\n",
      " [0. 1. 1. 0. 1.]\n",
      " [1. 2. 0. 1. 0.]]\n"
     ]
    }
   ],
   "source": [
    "print(data)"
   ]
  },
  {
   "cell_type": "code",
   "execution_count": 24,
   "metadata": {},
   "outputs": [],
   "source": [
    "# Create mapping between Original Target Classes and Encoded Target Classes to show prediction in categorical form.\n",
    "class_mapping = {}\n",
    "\n",
    "for num, label in zip((data[:,-1].astype('int')), (dataset[:,-1])):\n",
    "    class_mapping[num] = label"
   ]
  },
  {
   "cell_type": "code",
   "execution_count": 25,
   "metadata": {},
   "outputs": [
    {
     "name": "stdout",
     "output_type": "stream",
     "text": [
      "{0: 'No', 1: 'Yes'}\n"
     ]
    }
   ],
   "source": [
    "print(class_mapping)"
   ]
  },
  {
   "cell_type": "code",
   "execution_count": 26,
   "metadata": {},
   "outputs": [],
   "source": [
    "# Features variables - Taste, Temperature & Texture\n",
    "features = data[:,0:-1]\n",
    "\n"
   ]
  },
  {
   "cell_type": "code",
   "execution_count": 27,
   "metadata": {},
   "outputs": [
    {
     "name": "stdout",
     "output_type": "stream",
     "text": [
      "[[2. 1. 0. 0.]\n",
      " [2. 1. 0. 1.]\n",
      " [0. 1. 0. 0.]\n",
      " [1. 2. 0. 0.]\n",
      " [1. 0. 1. 0.]\n",
      " [1. 0. 1. 1.]\n",
      " [0. 0. 1. 1.]\n",
      " [2. 2. 0. 0.]\n",
      " [2. 0. 1. 0.]\n",
      " [1. 2. 1. 0.]\n",
      " [2. 2. 1. 1.]\n",
      " [0. 2. 0. 1.]\n",
      " [0. 1. 1. 0.]\n",
      " [1. 2. 0. 1.]]\n"
     ]
    }
   ],
   "source": [
    "print(features)"
   ]
  },
  {
   "cell_type": "code",
   "execution_count": 28,
   "metadata": {},
   "outputs": [],
   "source": [
    "# Target/Dependent Variable - Gender\n",
    "targets = data[:,-1]"
   ]
  },
  {
   "cell_type": "code",
   "execution_count": 29,
   "metadata": {},
   "outputs": [
    {
     "name": "stdout",
     "output_type": "stream",
     "text": [
      "[0. 0. 1. 1. 1. 0. 1. 0. 1. 1. 1. 1. 1. 0.]\n"
     ]
    }
   ],
   "source": [
    "print(targets)"
   ]
  },
  {
   "cell_type": "code",
   "execution_count": 30,
   "metadata": {},
   "outputs": [],
   "source": [
    "# Train the Model\n",
    "model = MLPClassifier(solver='lbfgs', alpha=1e-5)\n",
    "#fitted  = model.fit(feature_train, target_train)\n",
    "fitted  = model.fit(features, targets)"
   ]
  },
  {
   "cell_type": "code",
   "execution_count": 31,
   "metadata": {},
   "outputs": [],
   "source": [
    "#Problem - Should I play if outlook is Sunny, temperature is cool,Humidity is high and windy is true?\n",
    "guess = np.array([['Sunny','Mild','Normal','False']])"
   ]
  },
  {
   "cell_type": "code",
   "execution_count": 32,
   "metadata": {},
   "outputs": [],
   "source": [
    "# Predict Play\n",
    "predictions = fitted.predict( enc.transform(guess) )"
   ]
  },
  {
   "cell_type": "code",
   "execution_count": 33,
   "metadata": {},
   "outputs": [
    {
     "name": "stdout",
     "output_type": "stream",
     "text": [
      "['Yes']\n"
     ]
    }
   ],
   "source": [
    "#output\n",
    "predictions_labels = [class_mapping[key] for key in predictions]\n",
    "print(predictions_labels)\n"
   ]
  },
  {
   "cell_type": "code",
   "execution_count": null,
   "metadata": {},
   "outputs": [],
   "source": []
  }
 ],
 "metadata": {
  "kernelspec": {
   "display_name": "Python 3",
   "language": "python",
   "name": "python3"
  },
  "language_info": {
   "codemirror_mode": {
    "name": "ipython",
    "version": 3
   },
   "file_extension": ".py",
   "mimetype": "text/x-python",
   "name": "python",
   "nbconvert_exporter": "python",
   "pygments_lexer": "ipython3",
   "version": "3.8.8"
  }
 },
 "nbformat": 4,
 "nbformat_minor": 2
}
