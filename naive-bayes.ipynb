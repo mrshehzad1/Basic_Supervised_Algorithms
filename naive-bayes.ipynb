{
 "cells": [
  {
   "cell_type": "markdown",
   "metadata": {},
   "source": [
    "# Naive Bayes Classifier in Python using SciKit Learn"
   ]
  },
  {
   "cell_type": "code",
   "execution_count": 1,
   "metadata": {},
   "outputs": [],
   "source": [
    "# load libaries\n",
    "import numpy as np\n",
    "from sklearn.naive_bayes import GaussianNB"
   ]
  },
  {
   "cell_type": "code",
   "execution_count": 2,
   "metadata": {},
   "outputs": [],
   "source": [
    "# load dataset\n",
    "# (weight (kg), Height (cm), gender)\n",
    "sample_data = np.array([\n",
    "\t[70,175,'male'],\n",
    "\t[60,140,'female'],\n",
    "\t[80,185,'male'],\n",
    "\t[75,180,'male'],\n",
    "\t[65,150,'female'],\n",
    "\t[70,155,'female'],\n",
    "\t[75,160,'female'],\n",
    "\t[85,195,'male'],\n",
    "\t[55,170,'female'],\n",
    "\t[65,175,'female'],\n",
    "\t])"
   ]
  },
  {
   "cell_type": "code",
   "execution_count": 3,
   "metadata": {},
   "outputs": [],
   "source": [
    "# Feature Variables \n",
    "features = sample_data[:,0:-1].astype('float')\n"
   ]
  },
  {
   "cell_type": "code",
   "execution_count": 4,
   "metadata": {},
   "outputs": [],
   "source": [
    "# Target/Dependent Variable - Gender\n",
    "target = sample_data[:,-1]\n"
   ]
  },
  {
   "cell_type": "code",
   "execution_count": 5,
   "metadata": {},
   "outputs": [],
   "source": [
    "#Problem - What is Gender if weight is 50kg and height is 172 cm?\n",
    "guess = [[3.5,3]]"
   ]
  },
  {
   "cell_type": "code",
   "execution_count": 6,
   "metadata": {},
   "outputs": [],
   "source": [
    "# Train the Model\n",
    "model = GaussianNB()\n",
    "fittedModel = model.fit(features, target)"
   ]
  },
  {
   "cell_type": "code",
   "execution_count": 7,
   "metadata": {},
   "outputs": [],
   "source": [
    "# Predict Gender\n",
    "prediction = fittedModel.predict(guess)"
   ]
  },
  {
   "cell_type": "code",
   "execution_count": 8,
   "metadata": {},
   "outputs": [
    {
     "name": "stdout",
     "output_type": "stream",
     "text": [
      "Gender is ['female']\n"
     ]
    }
   ],
   "source": [
    "#output\n",
    "print(\"Gender is %s\" %(prediction))"
   ]
  },
  {
   "cell_type": "code",
   "execution_count": null,
   "metadata": {},
   "outputs": [],
   "source": []
  }
 ],
 "metadata": {
  "kernelspec": {
   "display_name": "Python 3",
   "language": "python",
   "name": "python3"
  },
  "language_info": {
   "codemirror_mode": {
    "name": "ipython",
    "version": 3
   },
   "file_extension": ".py",
   "mimetype": "text/x-python",
   "name": "python",
   "nbconvert_exporter": "python",
   "pygments_lexer": "ipython3",
   "version": "3.7.4"
  }
 },
 "nbformat": 4,
 "nbformat_minor": 2
}
